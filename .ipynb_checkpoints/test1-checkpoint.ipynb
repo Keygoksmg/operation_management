{
 "cells": [
  {
   "cell_type": "code",
   "execution_count": 6,
   "metadata": {},
   "outputs": [],
   "source": [
    "import pandas as pd\n",
    "import numpy as np\n",
    "from matplotlib import pyplot as plt\n",
    "\n",
    "from datetime import datetime\n",
    "\n",
    "from sklearn.linear_model import LinearRegression as LR #線形回帰モデル\n",
    "%matplotlib inline"
   ]
  },
  {
   "cell_type": "markdown",
   "metadata": {},
   "source": [
    "## Read data"
   ]
  },
  {
   "cell_type": "code",
   "execution_count": 7,
   "metadata": {},
   "outputs": [],
   "source": [
    "demand = pd.read_csv(\"data/demand_printer.csv\")"
   ]
  },
  {
   "cell_type": "markdown",
   "metadata": {},
   "source": [
    "## tarin, testデータを作成"
   ]
  },
  {
   "cell_type": "code",
   "execution_count": 8,
   "metadata": {},
   "outputs": [
    {
     "data": {
      "text/plain": [
       "Index(['受注見出NO', '受注見出日付', '部門名', '相手先NO', '伝票合計', '消費税区分', '消費税算出処理区分', 'NO',\n",
       "       '製造番号', '新既区分名', '価格区分名', 'CH数', '指定納期', '商品分類1コード', '商品分類1名',\n",
       "       '商品分類2コード', '商品分類2名', '商品分類3コード', '商品分類3名', '受注数量', '更新日付', '登録日付'],\n",
       "      dtype='object')"
      ]
     },
     "execution_count": 8,
     "metadata": {},
     "output_type": "execute_result"
    }
   ],
   "source": [
    "demand.columns"
   ]
  },
  {
   "cell_type": "code",
   "execution_count": 9,
   "metadata": {},
   "outputs": [],
   "source": [
    "from datetime import datetime"
   ]
  },
  {
   "cell_type": "code",
   "execution_count": 10,
   "metadata": {},
   "outputs": [],
   "source": [
    "# Change to datetime\n",
    "d1 = demand.drop(['部門名', '登録日付','商品分類1名','商品分類2名','商品分類3名','製造番号', 'NO', '新既区分名' ,'価格区分名','商品分類2コード', '商品分類1コード','商品分類3コード'], axis=1)\n",
    "d1['time'] = d1['更新日付'].apply(lambda x : datetime.strptime(x, '%Y/%m/%d %H:%M'))\n",
    "d1['month'] = d1.time.dt.month\n",
    "d1['day'] = d1.time.dt.day\n",
    "d1['year'] = d1.time.dt.year\n",
    "\n",
    "d2 = pd.concat([d1, pd.get_dummies(d1['相手先NO'])], axis = 1)\n",
    "d2 = d2.drop(['相手先NO', '更新日付', 'time'], axis=1)"
   ]
  },
  {
   "cell_type": "code",
   "execution_count": 11,
   "metadata": {},
   "outputs": [],
   "source": [
    "train, test = d2[d2['受注見出日付'] < 20190000], d2[d2['受注見出日付'] > 20190000]\n",
    "x_test, y_test = test.drop(['month'],axis=1), test.month\n",
    "x_train, y_train = train.drop(['month'],axis=1), train.month"
   ]
  },
  {
   "cell_type": "markdown",
   "metadata": {},
   "source": [
    "## Model"
   ]
  },
  {
   "cell_type": "code",
   "execution_count": 16,
   "metadata": {},
   "outputs": [
    {
     "data": {
      "text/plain": [
       "LinearRegression()"
      ]
     },
     "execution_count": 16,
     "metadata": {},
     "output_type": "execute_result"
    }
   ],
   "source": [
    "#線回帰モデルの定義\n",
    "model = LR()\n",
    " #説明変数と目的変数を設定し、学習\n",
    "model.fit(x_train, y_train)\n",
    " #傾きの確認\n",
    "# print('Slope', model.coef_)\n",
    " #切片の確認\n",
    "# print('Intercept', model.intercept_)"
   ]
  },
  {
   "cell_type": "markdown",
   "metadata": {},
   "source": [
    "## Prediction"
   ]
  },
  {
   "cell_type": "code",
   "execution_count": 13,
   "metadata": {},
   "outputs": [
    {
     "name": "stdout",
     "output_type": "stream",
     "text": [
      "[2.90323085 1.95957669 2.98876661 2.51146016 2.63274455 2.40770142\n",
      " 2.35669402 1.965626   1.72856718 1.69956051 1.89666637 1.89975227\n",
      " 1.9022303  3.57041522 2.66184865 2.79296978 2.82448618 2.80467764\n",
      " 2.64997351 2.79883863 2.02024885 4.03262752 2.72689428 1.5551433\n",
      " 3.36694198 2.31482705 2.85373939 2.28872716 2.8914664  2.99872756\n",
      " 4.13580832 4.16785866 3.60306518 3.57811347 3.83804325 3.80629611\n",
      " 3.7233801  3.86604315 4.29561186 4.29851864 4.2123422  4.21524898\n",
      " 3.86626543 3.73496093 2.93247387 4.32447626 5.00510959 4.97328403\n",
      " 4.42912043 4.43620065 4.43910743 4.61186755 5.19090749 4.68601422\n",
      " 4.62106047 4.64029433 4.7482624  5.16737385 4.59178047 5.13520203\n",
      " 4.64299955 4.53528227 5.42178162 5.21496798]\n"
     ]
    }
   ],
   "source": [
    "# 予測\n",
    "pred = model.predict(x_test)\n",
    "print(pred)"
   ]
  },
  {
   "cell_type": "code",
   "execution_count": 14,
   "metadata": {},
   "outputs": [
    {
     "name": "stdout",
     "output_type": "stream",
     "text": [
      "0.9887949430240655\n"
     ]
    }
   ],
   "source": [
    "print(model.score(x_train,y_train))"
   ]
  },
  {
   "cell_type": "code",
   "execution_count": null,
   "metadata": {},
   "outputs": [],
   "source": []
  }
 ],
 "metadata": {
  "kernelspec": {
   "display_name": "Python 3",
   "language": "python",
   "name": "python3"
  },
  "language_info": {
   "codemirror_mode": {
    "name": "ipython",
    "version": 3
   },
   "file_extension": ".py",
   "mimetype": "text/x-python",
   "name": "python",
   "nbconvert_exporter": "python",
   "pygments_lexer": "ipython3",
   "version": "3.6.9"
  }
 },
 "nbformat": 4,
 "nbformat_minor": 4
}
